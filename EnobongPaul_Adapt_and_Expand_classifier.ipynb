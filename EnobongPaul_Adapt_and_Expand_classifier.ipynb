{
  "nbformat": 4,
  "nbformat_minor": 0,
  "metadata": {
    "colab": {
      "name": "EnobongPaul Adapt and Expand classifier.ipynb",
      "provenance": []
    },
    "kernelspec": {
      "name": "python3",
      "display_name": "Python 3"
    },
    "language_info": {
      "name": "python"
    }
  },
  "cells": [
    {
      "cell_type": "code",
      "execution_count": null,
      "metadata": {
        "id": "F9RMRguHiPh3"
      },
      "outputs": [],
      "source": [
        "# Import Libraries\n",
        "\n",
        "from __future__ import unicode_literals, print_function, division\n",
        "from io import open\n",
        "import glob\n",
        "import os\n",
        "import unicodedata\n",
        "import string\n",
        "import random\n",
        "import time\n",
        "import math\n",
        "import pandas as pd\n",
        "\n",
        "import torch\n",
        "import torch.nn as nn\n",
        "import torch.optim as optim\n",
        "from torch.optim import lr_scheduler\n",
        "\n",
        "import matplotlib.pyplot as plt\n",
        "import matplotlib.ticker as ticker"
      ]
    },
    {
      "cell_type": "code",
      "source": [
        "device = torch.device(\"cuda\" if torch.cuda.is_available() else \"cpu\")\n",
        "# device = \"cpu\""
      ],
      "metadata": {
        "id": "_2VTdu5VjtJp"
      },
      "execution_count": null,
      "outputs": []
    },
    {
      "cell_type": "code",
      "source": [
        "from google.colab import drive\n",
        "drive.mount('/content/drive')"
      ],
      "metadata": {
        "colab": {
          "base_uri": "https://localhost:8080/"
        },
        "id": "jcoVcDrbjyus",
        "outputId": "644b9ed1-48f2-4e0b-cf26-7b02f56609f9"
      },
      "execution_count": null,
      "outputs": [
        {
          "output_type": "stream",
          "name": "stdout",
          "text": [
            "Mounted at /content/drive\n"
          ]
        }
      ]
    },
    {
      "cell_type": "code",
      "source": [
        "#Change root dir to wherever your data is! \n",
        "data_path = '/content/drive/MyDrive'\n",
        "specfic_path = '//content/drive/MyDrive/Copy of lm-data.zip'\n",
        "#!ls \"$root_dir\"\n",
        "root_dir = \"/content/data\"\n",
        "data_dir = root_dir + \"/lm-data/book-summaries/booksummaries_public/booksummaries\"\n",
        "\n",
        "!unzip \"//content/drive/MyDrive/Copy of lm-data.zip\" -d \"$root_dir\""
      ],
      "metadata": {
        "colab": {
          "base_uri": "https://localhost:8080/"
        },
        "id": "7TQib17klvMk",
        "outputId": "89b8c7dd-130e-4e9a-ecbd-3f9c63abdc3d"
      },
      "execution_count": null,
      "outputs": [
        {
          "output_type": "stream",
          "name": "stdout",
          "text": [
            "Archive:  //content/drive/MyDrive/Copy of lm-data.zip\n",
            "   creating: /content/data/lm-data/\n",
            "  inflating: /content/data/lm-data/spa-eng.zip  \n",
            "  inflating: /content/data/__MACOSX/lm-data/._spa-eng.zip  \n",
            "   creating: /content/data/lm-data/names/\n",
            "  inflating: /content/data/__MACOSX/lm-data/._names  \n",
            "  inflating: /content/data/lm-data/.DS_Store  \n",
            "  inflating: /content/data/__MACOSX/lm-data/._.DS_Store  \n",
            "  inflating: /content/data/lm-data/eng-fra.txt  \n",
            "  inflating: /content/data/__MACOSX/lm-data/._eng-fra.txt  \n",
            "  inflating: /content/data/lm-data/eng-swe.txt  \n",
            "  inflating: /content/data/__MACOSX/lm-data/._eng-swe.txt  \n",
            "  inflating: /content/data/lm-data/_about.txt  \n",
            "  inflating: /content/data/__MACOSX/lm-data/.__about.txt  \n",
            "  inflating: /content/data/lm-data/swe-eng.zip  \n",
            "  inflating: /content/data/__MACOSX/lm-data/._swe-eng.zip  \n",
            "   creating: /content/data/lm-data/book-summaries/\n",
            "  inflating: /content/data/__MACOSX/lm-data/._book-summaries  \n",
            "  inflating: /content/data/lm-data/names/Czech.txt  \n",
            "  inflating: /content/data/lm-data/names/German.txt  \n",
            "  inflating: /content/data/lm-data/names/Arabic.txt  \n",
            "  inflating: /content/data/lm-data/names/Japanese.txt  \n",
            "  inflating: /content/data/lm-data/names/Chinese.txt  \n",
            "  inflating: /content/data/lm-data/names/Vietnamese.txt  \n",
            "  inflating: /content/data/lm-data/names/Russian.txt  \n",
            "  inflating: /content/data/lm-data/names/French.txt  \n",
            "  inflating: /content/data/lm-data/names/Irish.txt  \n",
            "  inflating: /content/data/lm-data/names/English.txt  \n",
            "  inflating: /content/data/lm-data/names/Spanish.txt  \n",
            "  inflating: /content/data/lm-data/names/Greek.txt  \n",
            "  inflating: /content/data/lm-data/names/Italian.txt  \n",
            "  inflating: /content/data/lm-data/names/Portuguese.txt  \n",
            "  inflating: /content/data/lm-data/names/Scottish.txt  \n",
            "  inflating: /content/data/lm-data/names/Dutch.txt  \n",
            "  inflating: /content/data/lm-data/names/Korean.txt  \n",
            "  inflating: /content/data/lm-data/names/Polish.txt  \n",
            "   creating: /content/data/lm-data/book-summaries/booksummaries_public/\n",
            "  inflating: /content/data/lm-data/book-summaries/booksummaries.tar.gz  \n",
            "   creating: /content/data/lm-data/book-summaries/booksummaries_public/booksummaries/\n",
            "  inflating: /content/data/lm-data/book-summaries/booksummaries_public/booksummaries/README  \n",
            "  inflating: /content/data/lm-data/book-summaries/booksummaries_public/booksummaries/booksummaries.txt  \n"
          ]
        }
      ]
    },
    {
      "cell_type": "code",
      "source": [
        "# Vocabulary\n",
        "all_letters = string.ascii_letters + \" .,;'\"\n",
        "n_letters = len(all_letters)\n",
        "\n",
        "print(n_letters)\n",
        "\n",
        "# Turn a Unicode string to plain ASCII, thanks to https://stackoverflow.com/a/518232/2809427\n",
        "def unicodeToAscii(s):\n",
        "    return ''.join(\n",
        "        c for c in unicodedata.normalize('NFD', s)\n",
        "        if unicodedata.category(c) != 'Mn'\n",
        "        and c in all_letters\n",
        "    )"
      ],
      "metadata": {
        "colab": {
          "base_uri": "https://localhost:8080/"
        },
        "id": "_IGeGFGVpguk",
        "outputId": "2c11279e-5ce4-48cc-a55b-cf3b79c4ec02"
      },
      "execution_count": null,
      "outputs": [
        {
          "output_type": "stream",
          "name": "stdout",
          "text": [
            "57\n"
          ]
        }
      ]
    },
    {
      "cell_type": "code",
      "source": [
        "def findFiles(path): \n",
        "  return glob.glob(path)"
      ],
      "metadata": {
        "id": "sG04B2hYpyx2"
      },
      "execution_count": null,
      "outputs": []
    },
    {
      "cell_type": "code",
      "source": [
        "# Convert text file into csv file\n",
        "\n",
        "file_name = glob.glob(data_dir + '/*.txt')\n",
        "file = open(file_name[0], encoding='utf-8')\n",
        "CSVFile = pd.read_csv(file, delimiter='\\t', header=None)\n",
        "print('Shape of File: ',CSVFile.shape)\n",
        "print(CSVFile.head(3))"
      ],
      "metadata": {
        "colab": {
          "base_uri": "https://localhost:8080/"
        },
        "id": "ChKnQ99Op5H4",
        "outputId": "2959619a-d2cb-4841-890e-91f3333b585d"
      },
      "execution_count": null,
      "outputs": [
        {
          "output_type": "stream",
          "name": "stdout",
          "text": [
            "Shape of File:  (16559, 7)\n",
            "     0        1                   2                3           4  \\\n",
            "0  620  /m/0hhy         Animal Farm    George Orwell  1945-08-17   \n",
            "1  843  /m/0k36  A Clockwork Orange  Anthony Burgess        1962   \n",
            "2  986  /m/0ldx          The Plague     Albert Camus        1947   \n",
            "\n",
            "                                                   5  \\\n",
            "0  {\"/m/016lj8\": \"Roman \\u00e0 clef\", \"/m/06nbt\":...   \n",
            "1  {\"/m/06n90\": \"Science Fiction\", \"/m/0l67h\": \"N...   \n",
            "2  {\"/m/02m4t\": \"Existentialism\", \"/m/02xlf\": \"Fi...   \n",
            "\n",
            "                                                   6  \n",
            "0   Old Major, the old boar on the Manor Farm, ca...  \n",
            "1   Alex, a teenager living in near-future Englan...  \n",
            "2   The text of The Plague is divided into five p...  \n"
          ]
        }
      ]
    },
    {
      "cell_type": "code",
      "source": [
        "# Drop all the null values in the dataset\n",
        "CSVFile.isnull().sum() \n",
        "print(CSVFile.shape) \n",
        "new_CSVFile=CSVFile.dropna() \n",
        "new_CSVFile = new_CSVFile.reset_index(drop=True)\n",
        "print(new_CSVFile.shape)\n",
        "#new_CSVFile.head(5)"
      ],
      "metadata": {
        "colab": {
          "base_uri": "https://localhost:8080/"
        },
        "id": "0YEnQ_h7qFOu",
        "outputId": "f8491384-31da-4499-cabc-1357c0164e88"
      },
      "execution_count": null,
      "outputs": [
        {
          "output_type": "stream",
          "name": "stdout",
          "text": [
            "(16559, 7)\n",
            "(9293, 7)\n"
          ]
        }
      ]
    },
    {
      "cell_type": "code",
      "source": [
        "def add_value(dict_obj, key, value):\n",
        "    if key not in dict_obj:\n",
        "        dict_obj[key] = value\n",
        "    elif isinstance(dict_obj[key], list):\n",
        "        dict_obj[key].append(value)\n",
        "    else:\n",
        "        dict_obj[key] = [dict_obj[key], value]\n",
        "    return dict_obj"
      ],
      "metadata": {
        "id": "v7BB7CF2qMIf"
      },
      "execution_count": null,
      "outputs": []
    },
    {
      "cell_type": "code",
      "source": [
        "book_title={}\n",
        "author_name=[]   #Author names\n",
        "\n",
        "author_name = new_CSVFile.iloc[:,3]\n",
        "print(author_name)\n",
        "\n",
        "for i in range(len(author_name)):\n",
        "    category = author_name[i]\n",
        "    book_title = add_value(book_title, category, new_CSVFile.iloc[i,2])\n",
        "\n",
        "author_name = list(set(author_name))\n",
        "n_categories = len(author_name)\n",
        "print(n_categories)"
      ],
      "metadata": {
        "colab": {
          "base_uri": "https://localhost:8080/"
        },
        "id": "KEOakcIiqX25",
        "outputId": "5c652fdb-487f-48d8-a65c-d39b9ef9f3bd"
      },
      "execution_count": null,
      "outputs": [
        {
          "output_type": "stream",
          "name": "stdout",
          "text": [
            "0              George Orwell\n",
            "1            Anthony Burgess\n",
            "2               Albert Camus\n",
            "3       Erich Maria Remarque\n",
            "4          Ursula K. Le Guin\n",
            "                ...         \n",
            "9288            Timothy Zahn\n",
            "9289              Andy McNab\n",
            "9290             Vince Flynn\n",
            "9291                   Jay-Z\n",
            "9292      Fyodor Dostoyevsky\n",
            "Name: 3, Length: 9293, dtype: object\n",
            "3210\n"
          ]
        }
      ]
    },
    {
      "cell_type": "code",
      "source": [
        "# Find letter index from all_letters, e.g. \"a\" = 0\n",
        "def letterToIndex(letter):\n",
        "    return all_letters.find(letter)\n",
        "\n",
        "# Just for demonstration, turn a letter into a <1 x n_letters> Tensor\n",
        "def letterToTensor(letter):\n",
        "    tensor = torch.zeros(1, n_letters)\n",
        "    tensor[0][letterToIndex(letter)] = 1\n",
        "    return tensor\n",
        "\n",
        "# Turn a line into a <line_length x 1 x n_letters>,\n",
        "# or an array of one-hot letter vectors\n",
        "def lineToTensor(line):\n",
        "    tensor = torch.zeros(len(line), 1, n_letters)\n",
        "    for li, letter in enumerate(line):\n",
        "        tensor[li][0][letterToIndex(letter)] = 1\n",
        "    return tensor"
      ],
      "metadata": {
        "id": "bxlMCDX7qglt"
      },
      "execution_count": null,
      "outputs": []
    },
    {
      "cell_type": "markdown",
      "source": [
        "## create RNN Model"
      ],
      "metadata": {
        "id": "IoZuT2IVqmOq"
      }
    },
    {
      "cell_type": "code",
      "source": [
        "class RNN(nn.Module):\n",
        "    def __init__(self, input_size, hidden_size, output_size):\n",
        "        super(RNN, self).__init__()\n",
        "\n",
        "        self.hidden_size = hidden_size\n",
        "\n",
        "        self.hidden_comp = nn.Linear(input_size + hidden_size, hidden_size)\n",
        "        self.output_comp = nn.Linear(input_size + hidden_size, hidden_size)\n",
        "        self.output2output = nn.Linear(hidden_size, output_size)\n",
        "        self.tanh_act = nn.Tanh()\n",
        "        self.lsoftmax = nn.LogSoftmax(dim=1)\n",
        "\n",
        "    def forward(self, x, hidden):\n",
        "#         print(x.shape)\n",
        "        \n",
        "        combined = torch.cat((x, hidden), 1)\n",
        "        hidden = self.hidden_comp(combined)\n",
        "        hidden = self.tanh_act(hidden)\n",
        "#         print(hidden.shape)\n",
        "        \n",
        "        output = self.output_comp(combined)\n",
        "        output = self.tanh_act(output)\n",
        "#         print(output.shape)\n",
        "        output = self.output2output(output)\n",
        "        output = self.lsoftmax(output)\n",
        "#         print(output.shape)\n",
        "        \n",
        "        return output, hidden\n",
        "\n",
        "    def initHidden(self):\n",
        "        return torch.zeros(1, self.hidden_size)\n",
        "\n",
        "n_hidden = 128\n",
        "rnn = RNN(n_letters, n_hidden, n_categories)"
      ],
      "metadata": {
        "id": "R5o_PjYiqqQg"
      },
      "execution_count": null,
      "outputs": []
    },
    {
      "cell_type": "code",
      "source": [
        "x = letterToTensor('D')\n",
        "print(x.shape)\n",
        "hidden =torch.zeros(1, n_hidden)\n",
        "hidden = rnn.initHidden()\n",
        "print(hidden.shape)\n",
        "\n",
        "output, next_hidden = rnn(x, hidden)\n",
        "print(output.argmax(-1))\n",
        "print(output.topk(3).indices)"
      ],
      "metadata": {
        "colab": {
          "base_uri": "https://localhost:8080/"
        },
        "id": "ROpVLX1lrBBt",
        "outputId": "1c029da1-8547-4a3e-b9a8-d06413fa9872"
      },
      "execution_count": null,
      "outputs": [
        {
          "output_type": "stream",
          "name": "stdout",
          "text": [
            "torch.Size([1, 57])\n",
            "torch.Size([1, 128])\n",
            "tensor([6])\n",
            "tensor([[  6, 979, 765]])\n"
          ]
        }
      ]
    },
    {
      "cell_type": "code",
      "source": [
        "x = lineToTensor('Decoded')\n",
        "hidden = torch.zeros(1, n_hidden)\n",
        "\n",
        "output, next_hidden = rnn(x[0], hidden)\n",
        "output, next_hidden = rnn(x[1], next_hidden)\n",
        "output, next_hidden = rnn(x[2], next_hidden)\n",
        "output, next_hidden = rnn(x[3], next_hidden)\n",
        "output, next_hidden = rnn(x[4], next_hidden)\n",
        "output, next_hidden = rnn(x[5], next_hidden)\n",
        "output, next_hidden = rnn(x[6], next_hidden)\n",
        "print(output.argmax(-1))"
      ],
      "metadata": {
        "colab": {
          "base_uri": "https://localhost:8080/"
        },
        "id": "8awMmT6frJyV",
        "outputId": "9011a64c-bf83-4a39-e051-5bdd730dff3b"
      },
      "execution_count": null,
      "outputs": [
        {
          "output_type": "stream",
          "name": "stdout",
          "text": [
            "tensor([770])\n"
          ]
        }
      ]
    },
    {
      "cell_type": "code",
      "source": [
        "def categoryFromOutput(output):\n",
        "    top_n, top_i = output.topk(1)\n",
        "    category_i = top_i[0].item()\n",
        "    return author_name[category_i], category_i\n",
        "\n",
        "print(categoryFromOutput(output))"
      ],
      "metadata": {
        "colab": {
          "base_uri": "https://localhost:8080/"
        },
        "id": "6ehcwQBSr0oC",
        "outputId": "e428f346-be66-48ab-c965-d3e8b37ed366"
      },
      "execution_count": null,
      "outputs": [
        {
          "output_type": "stream",
          "name": "stdout",
          "text": [
            "('Yoko Kawashima Watkins', 770)\n"
          ]
        }
      ]
    },
    {
      "cell_type": "code",
      "source": [
        "def randomChoice(l):\n",
        "    return l[random.randint(0, len(l) - 1)]\n",
        "\n",
        "def randomTrainingExample():\n",
        "    category = randomChoice(author_name)\n",
        "    line = randomChoice(book_title[category])\n",
        "    category_tensor = torch.tensor([author_name.index(category)], dtype=torch.long)\n",
        "    line_tensor = lineToTensor(line)\n",
        "    return category, line, category_tensor, line_tensor\n",
        "\n",
        "for i in range(10):\n",
        "    category, line, category_tensor, line_tensor = randomTrainingExample()\n",
        "    print('Author =', category, '/ Book Title =', line )"
      ],
      "metadata": {
        "colab": {
          "base_uri": "https://localhost:8080/"
        },
        "id": "LddTt56ur7Mz",
        "outputId": "5cf7e6d8-c76a-4c32-9739-606059575c0b"
      },
      "execution_count": null,
      "outputs": [
        {
          "output_type": "stream",
          "name": "stdout",
          "text": [
            "Author = Enid Blyton / Book Title = The Island of Adventure\n",
            "Author = Joe Hill / Book Title = Horns\n",
            "Author = Kate Cann / Book Title = i\n",
            "Author = Frank Chin / Book Title = D\n",
            "Author = Denise Vega / Book Title = :\n",
            "Author = Amy Tan / Book Title = Saving Fish from Drowning\n",
            "Author = Bai T. Moore / Book Title = a\n",
            "Author = Daniel Gilbert / Book Title = s\n",
            "Author = Maureen Johnson / Book Title =  \n",
            "Author = Elise Broach / Book Title = s\n"
          ]
        }
      ]
    },
    {
      "cell_type": "code",
      "source": [
        "def timeSince(since):\n",
        "    now = time.time()\n",
        "    s = now - since\n",
        "    m = math.floor(s / 50)\n",
        "    s -= m * 50\n",
        "    return '%dm %ds' % (m, s)"
      ],
      "metadata": {
        "id": "VRMEE2cnsG7u"
      },
      "execution_count": null,
      "outputs": []
    },
    {
      "cell_type": "markdown",
      "source": [
        "## Train Model"
      ],
      "metadata": {
        "id": "qCrja6RGsVqe"
      }
    },
    {
      "cell_type": "code",
      "source": [
        "def train(category_tensor, line_tensor, optim, criterion, model):\n",
        "    \n",
        "    model.train()\n",
        "    hidden = model.initHidden()\n",
        "    model.zero_grad()\n",
        "    \n",
        "    category_tensor = category_tensor.to(device)\n",
        "    line_tensor = line_tensor.to(device)\n",
        "\n",
        "    # Iterate through the whole line!\n",
        "    for i in range(line_tensor.size()[0]):\n",
        "        hidden = hidden.to(device)\n",
        "        output, hidden = model(line_tensor[i], hidden)\n",
        "\n",
        "    loss = criterion(output, category_tensor)\n",
        "    \n",
        "    # zero the parameter gradients\n",
        "    optim.zero_grad()\n",
        "    loss.backward()\n",
        "    optim.step()\n",
        "\n",
        "    return output, loss.item()"
      ],
      "metadata": {
        "id": "jbFkT_A0sYW8"
      },
      "execution_count": null,
      "outputs": []
    },
    {
      "cell_type": "code",
      "source": [
        "criterion = nn.NLLLoss() # Because we are using Log_softmax\n",
        "learning_rate = 0.005 # If you set this too high, it might explode. If too low, it might not learn\n",
        "N_HIDDEN = 128\n",
        "\n",
        "model_basic = RNN(n_letters, N_HIDDEN, n_categories) #Vocab_size, hidden size, output classes\n",
        "model_basic = model_basic.to(device)\n",
        "optimizer = optim.SGD(model_basic.parameters(), lr=learning_rate)\n",
        "\n",
        "n_iters = 10000\n",
        "print_every = 3000\n",
        "plot_every = 1000\n",
        "\n",
        "# Keep track of losses for plotting\n",
        "current_loss = 0\n",
        "all_losses = []\n",
        "\n",
        "start = time.time()\n",
        "\n",
        "for iter in range(1, n_iters + 1):\n",
        "    category, line, category_tensor, line_tensor = randomTrainingExample()\n",
        "    output, loss = train(category_tensor, line_tensor, optimizer, criterion, model_basic)\n",
        "    current_loss += loss\n",
        "\n",
        "    # Print iter number, loss, name and guess\n",
        "    if iter % print_every == 0:\n",
        "        guess, guess_i = categoryFromOutput(output)\n",
        "        correct = '✓' if guess == category else '✗ (%s)' % category\n",
        "        print('%d %d%% (%s) %.4f %s / %s %s' % (iter, iter / n_iters * 100, timeSince(start), loss, line, guess, correct))\n",
        "\n",
        "    # Add current loss avg to list of losses\n",
        "    if iter % plot_every == 0:\n",
        "        all_losses.append(current_loss / plot_every)\n",
        "        current_loss = 0"
      ],
      "metadata": {
        "colab": {
          "base_uri": "https://localhost:8080/"
        },
        "id": "z5dG0Lhish0S",
        "outputId": "163ee31c-0542-4fc8-d269-1da50dd5c5b2"
      },
      "execution_count": null,
      "outputs": [
        {
          "output_type": "stream",
          "name": "stdout",
          "text": [
            "3000 30% (0m 9s) 8.0242 Zeroville / Haruki Murakami ✗ (Steve Erickson)\n",
            "6000 60% (0m 18s) 8.0078 Pnin / S. M. Stirling ✗ (Vladimir Vladimirovich Nabokov)\n",
            "9000 90% (0m 26s) 8.0043 i / Helen Palmer Geisel ✗ (Charles R. Pellegrino)\n"
          ]
        }
      ]
    },
    {
      "cell_type": "code",
      "source": [
        "# PLOT THE RESULT\n",
        "\n",
        "import matplotlib.pyplot as plt\n",
        "import matplotlib.ticker as ticker\n",
        "\n",
        "plt.figure()\n",
        "plt.plot(all_losses)"
      ],
      "metadata": {
        "colab": {
          "base_uri": "https://localhost:8080/",
          "height": 282
        },
        "id": "9vvF_BWstEOZ",
        "outputId": "6bcc11ca-ab09-4895-879a-cd0c2336ba4c"
      },
      "execution_count": null,
      "outputs": [
        {
          "output_type": "execute_result",
          "data": {
            "text/plain": [
              "[<matplotlib.lines.Line2D at 0x7fad1dcdbed0>]"
            ]
          },
          "metadata": {},
          "execution_count": 22
        },
        {
          "output_type": "display_data",
          "data": {
            "text/plain": [
              "<Figure size 432x288 with 1 Axes>"
            ],
            "image/png": "[encoded data removed]"
          },
          "metadata": {
            "needs_background": "light"
          }
        }
      ]
    },
    {
      "cell_type": "markdown",
      "source": [
        "Evaluation"
      ],
      "metadata": {
        "id": "x3yrTVGfySvo"
      }
    },
    {
      "cell_type": "code",
      "source": [
        "def evaluate(book_title, model):\n",
        "    model.eval()\n",
        "    hidden = model.initHidden()\n",
        "    book_title = book_title.to(device)\n",
        "\n",
        "    for i in range(book_title.size()[0]):\n",
        "        hidden = hidden.to(device)\n",
        "        output, hidden = model(book_title[i], hidden)\n",
        "\n",
        "    return output"
      ],
      "metadata": {
        "id": "QF45SLKE7ElT"
      },
      "execution_count": null,
      "outputs": []
    },
    {
      "cell_type": "markdown",
      "source": [
        "##Predict with RNN"
      ],
      "metadata": {
        "id": "QT8A9y-a5xAB"
      }
    },
    {
      "cell_type": "code",
      "source": [
        "def predict(input_line, n_predictions=3):\n",
        "    print('\\n> %s' % input_line)\n",
        "    with torch.no_grad():\n",
        "        output = evaluate(lineToTensor(input_line), model_basic)\n",
        "\n",
        "        # Get top N categories\n",
        "        topv, topi = output.topk(n_predictions, 1, True)\n",
        "        predictions = []\n",
        "\n",
        "        for i in range(n_predictions):\n",
        "            value = topv[0][i].item()\n",
        "            category_index = topi[0][i].item()\n",
        "            print('(%.2f) %s' % (value, author_name[category_index]))\n",
        "            predictions.append([value, author_name[category_index]])\n",
        "\n",
        "predict('Animal Farm')\n",
        "predict('Anthem')\n",
        "predict('After')\n",
        "predict('The Plague')"
      ],
      "metadata": {
        "colab": {
          "base_uri": "https://localhost:8080/"
        },
        "id": "1qUMl2e7ySOr",
        "outputId": "aa9f71d0-5a5e-4347-ce1b-d4b21002e59c"
      },
      "execution_count": null,
      "outputs": [
        {
          "output_type": "stream",
          "name": "stdout",
          "text": [
            "\n",
            "> Animal Farm\n",
            "(-7.85) S. M. Stirling\n",
            "(-7.86) William Steig\n",
            "(-7.86) Bruce Chatwin\n",
            "\n",
            "> Anthem\n",
            "(-7.85) Kim Stanley Robinson\n",
            "(-7.86) S. M. Stirling\n",
            "(-7.86) Victor Hugo\n",
            "\n",
            "> After\n",
            "(-7.84) S. M. Stirling\n",
            "(-7.86) Jean Lorrah\n",
            "(-7.87) Robert Crais\n",
            "\n",
            "> The Plague\n",
            "(-7.84) William Steig\n",
            "(-7.85) Kate Seredy\n",
            "(-7.87) Robert Crais\n"
          ]
        }
      ]
    },
    {
      "cell_type": "markdown",
      "source": [
        "## Create RNNPytorch"
      ],
      "metadata": {
        "id": "Gix5rLFN2oOY"
      }
    },
    {
      "cell_type": "code",
      "source": [
        "class RNNPytorch(nn.Module):\n",
        "    def __init__(self, input_size, hidden_size, output_size):\n",
        "        super(RNNPytorch, self).__init__()\n",
        "\n",
        "        self.hidden_size = hidden_size\n",
        "        \n",
        "        self.rnn = nn.RNN(input_size, hidden_size, num_layers=1, batch_first=True) # 1 is num_layers\n",
        "        self.fc = nn.Linear(hidden_size, output_size)\n",
        "        self.lsoftmax = nn.LogSoftmax(dim=1)\n",
        "\n",
        "    def forward(self, x, hidden):\n",
        "\n",
        "        hidden, output = self.rnn(x, hidden)\n",
        "\n",
        "        output = output.contiguous().view(-1, self.hidden_size)\n",
        "        output = self.fc(output)\n",
        "        output = self.lsoftmax(output)\n",
        "        \n",
        "        return output, hidden\n",
        "\n",
        "    def initHidden(self, batch_size):\n",
        "        return torch.zeros(1, 1, self.hidden_size)"
      ],
      "metadata": {
        "id": "iwHt2AY010Zf"
      },
      "execution_count": null,
      "outputs": []
    },
    {
      "cell_type": "markdown",
      "source": [
        "## Train RNNPytorch"
      ],
      "metadata": {
        "id": "qPN_4Y042B-U"
      }
    },
    {
      "cell_type": "code",
      "source": [
        "def train_pytorch_model(category_tensor, line_tensor, optim, criterion, model):\n",
        "    \n",
        "    model.train()\n",
        "    hidden = model.initHidden(line_tensor.shape[1])\n",
        "    model.zero_grad()\n",
        "    line_tensor = line_tensor.permute(1, 0, 2)\n",
        "#     print(line_tensor.shape)\n",
        "    \n",
        "#     print(category_tensor.shape)\n",
        "    category_tensor = category_tensor.to(device)\n",
        "    line_tensor = line_tensor.to(device)\n",
        "    \n",
        "    # Iterate through the whole line!\n",
        "    hidden = hidden.to(device)\n",
        "    output, hidden = model(line_tensor, hidden)\n",
        "\n",
        "    loss = criterion(output, torch.topk(category_tensor, 1).indices.view(-1))\n",
        "    \n",
        "    # zero the parameter gradients\n",
        "    optim.zero_grad()\n",
        "    loss.backward()\n",
        "    optim.step()\n",
        "\n",
        "    return output, loss.item()"
      ],
      "metadata": {
        "id": "E4heLKGR16Vc"
      },
      "execution_count": null,
      "outputs": []
    },
    {
      "cell_type": "code",
      "source": [
        "criterion = nn.NLLLoss() # Because we are using Log_softmax\n",
        "learning_rate = 0.05 # If you set this too high, it might explode. If too low, it might not learn\n",
        "N_HIDDEN = 128\n",
        "\n",
        "model_pytorch = RNN(n_letters, N_HIDDEN, n_categories) #Vocab_size, hidden size, output classes\n",
        "model_pytorch = model_pytorch.to(device)\n",
        "optimizer = optim.SGD(model_pytorch.parameters(), lr=learning_rate)\n",
        "\n",
        "n_iters = 10000\n",
        "print_every = 3000\n",
        "plot_every = 1000\n",
        "\n",
        "# Keep track of losses for plotting\n",
        "current_loss = 0\n",
        "all_losses = []\n",
        "\n",
        "start = time.time()\n",
        "\n",
        "for iter in range(1, n_iters):\n",
        "    category, line, category_tensor, line_tensor = randomTrainingExample()\n",
        "    output, loss = train(category_tensor, line_tensor, optimizer, criterion, model_pytorch)\n",
        "    current_loss += loss\n",
        "\n",
        "    # Print iter number, loss, name and guess\n",
        "    if iter % print_every == 0:\n",
        "        guess, guess_i = categoryFromOutput(output)\n",
        "        correct = '✓' if guess == category else '✗ (%s)' % category\n",
        "        print('%d %d%% (%s) %.4f %s / %s %s' % (iter, iter / n_iters * 100, timeSince(start), loss, line, guess, correct))\n",
        "\n",
        "    # Add current loss avg to list of losses\n",
        "    if iter % plot_every == 0:\n",
        "        all_losses.append(current_loss / plot_every)\n",
        "        current_loss = 0"
      ],
      "metadata": {
        "colab": {
          "base_uri": "https://localhost:8080/"
        },
        "id": "9Z4cSG_v2OCc",
        "outputId": "32a9c8e6-b6c5-4f7b-de1c-47798497c4d0"
      },
      "execution_count": null,
      "outputs": [
        {
          "output_type": "stream",
          "name": "stdout",
          "text": [
            "3000 30% (0m 9s) 7.9223 r / Richard Armstrong ✗ (Max Brooks)\n",
            "6000 60% (0m 18s) 8.6802 The Maytrees / Dan Simmons ✗ (Annie Dillard)\n",
            "9000 90% (0m 27s) 7.0608 The Summer Birds / David Weber ✗ (Penelope Farmer)\n"
          ]
        }
      ]
    },
    {
      "cell_type": "code",
      "source": [
        "# PLOT THE RESULT\n",
        "\n",
        "import matplotlib.pyplot as plt\n",
        "import matplotlib.ticker as ticker\n",
        "\n",
        "plt.figure()\n",
        "plt.plot(all_losses)"
      ],
      "metadata": {
        "colab": {
          "base_uri": "https://localhost:8080/",
          "height": 282
        },
        "id": "yhfXP3ca2Zgy",
        "outputId": "66209900-c271-4396-8c71-96b10808f43c"
      },
      "execution_count": null,
      "outputs": [
        {
          "output_type": "execute_result",
          "data": {
            "text/plain": [
              "[<matplotlib.lines.Line2D at 0x7fad1d757dd0>]"
            ]
          },
          "metadata": {},
          "execution_count": 32
        },
        {
          "output_type": "display_data",
          "data": {
            "text/plain": [
              "<Figure size 432x288 with 1 Axes>"
            ],
            "image/png": "[encoded data removed]"
          },
          "metadata": {
            "needs_background": "light"
          }
        }
      ]
    },
    {
      "cell_type": "markdown",
      "source": [
        "#Create GRUpytoch model"
      ],
      "metadata": {
        "id": "RHRAmIA9205u"
      }
    },
    {
      "cell_type": "code",
      "source": [
        "class GRUPytorch(nn.Module):\n",
        "    def __init__(self, input_size, hidden_size, output_size):\n",
        "        super(GRUPytorch, self).__init__()\n",
        "\n",
        "        self.hidden_size = hidden_size\n",
        "        \n",
        "        self.rnn = nn.RNN(input_size, hidden_size, num_layers=1, batch_first=True) # 1 is num_layers\n",
        "        self.fc = nn.Linear(hidden_size, output_size)\n",
        "        self.lsoftmax = nn.LogSoftmax(dim=1)\n",
        "\n",
        "    def forward(self, x, hidden):\n",
        "\n",
        "        hidden, output = self.rnn(x, hidden)\n",
        "\n",
        "        output = output.contiguous().view(-1, self.hidden_size)\n",
        "        output = self.fc(output)\n",
        "        output = self.lsoftmax(output)\n",
        "        \n",
        "        return output, hidden\n",
        "\n",
        "    def initHidden(self, batch_size):\n",
        "        return torch.zeros(1, 1, self.hidden_size)"
      ],
      "metadata": {
        "id": "kBmDdIem3DAR"
      },
      "execution_count": null,
      "outputs": []
    },
    {
      "cell_type": "markdown",
      "source": [
        "##Train GRUPytorch"
      ],
      "metadata": {
        "id": "pZxpJe7t3Qna"
      }
    },
    {
      "cell_type": "code",
      "source": [
        "criterion = nn.NLLLoss() # Because we are using Log_softmax\n",
        "learning_rate = 0.005 # If you set this too high, it might explode. If too low, it might not learn\n",
        "N_HIDDEN = 128\n",
        "\n",
        "model_gru_pytorch = GRUPytorch(n_letters, N_HIDDEN, n_categories) #Vocab_size, hidden size, output classes\n",
        "model_gru_pytorch = model_gru_pytorch.to(device)\n",
        "optimizer = optim.SGD(model_pytorch.parameters(), lr=learning_rate)\n",
        "\n",
        "n_iters = 10000\n",
        "print_every = 3000\n",
        "plot_every = 1000\n",
        "\n",
        "# Keep track of losses for plotting\n",
        "current_loss = 0\n",
        "all_losses = []\n",
        "\n",
        "start = time.time()\n",
        "\n",
        "for iter in range(1, n_iters + 1):\n",
        "    category, line, category_tensor, line_tensor = randomTrainingExample()\n",
        "    output, loss = train_pytorch_model(category_tensor, line_tensor, optimizer, criterion, model_gru_pytorch)\n",
        "    current_loss += loss\n",
        "    # Print iter number, loss, name and guess\n",
        "    if iter % print_every == 0:\n",
        "        guess, guess_i = categoryFromOutput(output)\n",
        "        correct = '✓' if guess == category else '✗ (%s)' % category\n",
        "        print('%d %d%% (%s) %.4f %s / %s %s' % (iter, iter / n_iters * 100, timeSince(start), loss, line, guess, correct))\n",
        "\n",
        "    # Add current loss avg to list of losses\n",
        "    if iter % plot_every == 0:\n",
        "        all_losses.append(current_loss / plot_every)\n",
        "        current_loss = 0"
      ],
      "metadata": {
        "colab": {
          "base_uri": "https://localhost:8080/"
        },
        "id": "1s1gl7jG3XHe",
        "outputId": "cf58c287-1d74-4134-a81b-65c409e07c48"
      },
      "execution_count": null,
      "outputs": [
        {
          "output_type": "stream",
          "name": "stdout",
          "text": [
            "3000 30% (0m 7s) 8.0919 The Cancer Journals / Laura Albert ✗ (Audre Lorde)\n",
            "6000 60% (0m 14s) 8.0608 Evernight / Sean McGowan ✗ (Claudia Gray)\n",
            "9000 90% (0m 21s) 8.0362 Clay / Rick Moody ✗ (David Almond)\n"
          ]
        }
      ]
    },
    {
      "cell_type": "code",
      "source": [
        "# PLOT THE RESULT\n",
        "\n",
        "import matplotlib.pyplot as plt\n",
        "import matplotlib.ticker as ticker\n",
        "\n",
        "plt.figure()\n",
        "plt.plot(all_losses)"
      ],
      "metadata": {
        "colab": {
          "base_uri": "https://localhost:8080/",
          "height": 282
        },
        "id": "GBh8baQ-4qhn",
        "outputId": "66bb7f86-fdda-45ef-d10d-03473518da46"
      },
      "execution_count": null,
      "outputs": [
        {
          "output_type": "execute_result",
          "data": {
            "text/plain": [
              "[<matplotlib.lines.Line2D at 0x7fad1d6b1c90>]"
            ]
          },
          "metadata": {},
          "execution_count": 36
        },
        {
          "output_type": "display_data",
          "data": {
            "text/plain": [
              "<Figure size 432x288 with 1 Axes>"
            ],
            "image/png": "[encoded data removed]"
          },
          "metadata": {
            "needs_background": "light"
          }
        }
      ]
    },
    {
      "cell_type": "markdown",
      "source": [
        "## Evaluate and predict with GRUPYtorch"
      ],
      "metadata": {
        "id": "oEen93O15Ggg"
      }
    },
    {
      "cell_type": "code",
      "source": [
        "# Just return an output given a line\n",
        "def evaluate(line_tensor, model):\n",
        "    model.eval()\n",
        "    hidden = model.initHidden(line_tensor.shape[1])\n",
        "    hidden = hidden.to(device)\n",
        "\n",
        "    line_tensor = line_tensor.permute(1, 0, 2)\n",
        "    line_tensor = line_tensor.to(device)\n",
        "    output, hidden = model(line_tensor, hidden)\n",
        "    \n",
        "    return output"
      ],
      "metadata": {
        "id": "9GnaTEgJ5NWo"
      },
      "execution_count": null,
      "outputs": []
    },
    {
      "cell_type": "code",
      "source": [
        "def predict(input_line, n_predictions=3):\n",
        "    print('\\n> %s' % input_line)\n",
        "    with torch.no_grad():\n",
        "        output = evaluate(lineToTensor(input_line), model_gru_pytorch)\n",
        "\n",
        "        # Get top N categories\n",
        "        topv, topi = output.topk(n_predictions, 1, True)\n",
        "        predictions = []\n",
        "\n",
        "        for i in range(n_predictions):\n",
        "            value = topv[0][i].item()\n",
        "            category_index = topi[0][i].item()\n",
        "            print('(%.2f) %s' % (value, author_name[category_index]))\n",
        "            predictions.append([value, author_name[category_index]])\n",
        "\n",
        "predict('Animal Farm')\n",
        "predict('Anthem')\n",
        "predict('After')\n",
        "predict('The Plague')"
      ],
      "metadata": {
        "colab": {
          "base_uri": "https://localhost:8080/"
        },
        "id": "XGjUCmAS6A4r",
        "outputId": "7ca9bc47-e6ec-42f5-e8cc-47d23295a45a"
      },
      "execution_count": null,
      "outputs": [
        {
          "output_type": "stream",
          "name": "stdout",
          "text": [
            "\n",
            "> Animal Farm\n",
            "(-7.81) Elizabeth Kolbert\n",
            "(-7.81) Ayaan Hirsi Ali\n",
            "(-7.82) Augusten Burroughs\n",
            "\n",
            "> Anthem\n",
            "(-7.80) Benjamin Disraeli, 1st Earl of Beaconsfield\n",
            "(-7.81) Augusten Burroughs\n",
            "(-7.82) Guus Kuijer\n",
            "\n",
            "> After\n",
            "(-7.81) Augusten Burroughs\n",
            "(-7.84) Guus Kuijer\n",
            "(-7.84) Owen Sheers\n",
            "\n",
            "> The Plague\n",
            "(-7.81) Sheridan Le Fanu\n",
            "(-7.81) Augusten Burroughs\n",
            "(-7.83) Mark Behr\n"
          ]
        }
      ]
    }
  ]
}